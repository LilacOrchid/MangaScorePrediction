{
 "cells": [
  {
   "cell_type": "markdown",
   "metadata": {},
   "source": [
    "### Manga Score Prediction\n",
    "\n",
    "Various Machine Learning Models will be used to predict the score of manga out of 10 from various user metrics"
   ]
  },
  {
   "cell_type": "markdown",
   "metadata": {},
   "source": [
    "#### Import Modules"
   ]
  },
  {
   "cell_type": "code",
   "execution_count": 1,
   "metadata": {},
   "outputs": [],
   "source": [
    "import os\n",
    "import pandas as pd\n",
    "import numpy as np\n",
    "import matplotlib.pyplot as plt"
   ]
  },
  {
   "cell_type": "markdown",
   "metadata": {},
   "source": [
    "#### Merge manga data into one data frame"
   ]
  },
  {
   "cell_type": "code",
   "execution_count": 2,
   "metadata": {},
   "outputs": [],
   "source": [
    "# files = [files for files in os.listdir('.Project_1_MyAnimeList/MyAnimeList_Web_Scraper/Manga Data/')] # list of file names \n",
    "# files = files[1:] #remove python checkpoints\n",
    "\n",
    "# Data = pd.DataFrame() # empty data frame to merge all data into one\n",
    "\n",
    "\n",
    "# #Now concatenate multiple files into one data frame\n",
    "# for file in files:\n",
    "#     df = pd.read_csv('.Python_Projects/My _Projects/Project_1_MyAnimeList/All_Manga_Data.csv' + file)\n",
    "#     Data = pd.concat([Data,df])\n",
    "    \n",
    "# #Save Date frame in file\n",
    "# #Manga_Data.to_csv('All_Manga_Data.csv',index = False)\n"
   ]
  },
  {
   "cell_type": "code",
   "execution_count": 3,
   "metadata": {},
   "outputs": [],
   "source": [
    "df = pd.read_csv('./All_Manga_Data.csv')\n",
    "Data = pd.DataFrame()\n",
    "Data = pd.concat([Data,df])"
   ]
  },
  {
   "cell_type": "markdown",
   "metadata": {},
   "source": [
    "#### Inspect Data Frame"
   ]
  },
  {
   "cell_type": "code",
   "execution_count": 4,
   "metadata": {},
   "outputs": [
    {
     "data": {
      "text/html": [
       "<div>\n",
       "<style scoped>\n",
       "    .dataframe tbody tr th:only-of-type {\n",
       "        vertical-align: middle;\n",
       "    }\n",
       "\n",
       "    .dataframe tbody tr th {\n",
       "        vertical-align: top;\n",
       "    }\n",
       "\n",
       "    .dataframe thead th {\n",
       "        text-align: right;\n",
       "    }\n",
       "</style>\n",
       "<table border=\"1\" class=\"dataframe\">\n",
       "  <thead>\n",
       "    <tr style=\"text-align: right;\">\n",
       "      <th></th>\n",
       "      <th>English</th>\n",
       "      <th>Type</th>\n",
       "      <th>Volumes</th>\n",
       "      <th>Chapters</th>\n",
       "      <th>Status</th>\n",
       "      <th>Published</th>\n",
       "      <th>Genres</th>\n",
       "      <th>Themes</th>\n",
       "      <th>Demographic</th>\n",
       "      <th>Serialization</th>\n",
       "      <th>Authors</th>\n",
       "      <th>Score</th>\n",
       "      <th>Ranked</th>\n",
       "      <th>Popularity</th>\n",
       "      <th>Members</th>\n",
       "      <th>Favorites</th>\n",
       "      <th>Demographics</th>\n",
       "    </tr>\n",
       "  </thead>\n",
       "  <tbody>\n",
       "    <tr>\n",
       "      <th>0</th>\n",
       "      <td>Monster</td>\n",
       "      <td>Manga</td>\n",
       "      <td>18</td>\n",
       "      <td>162</td>\n",
       "      <td>Finished</td>\n",
       "      <td>Dec 5, 1994 to Dec 20, 2001</td>\n",
       "      <td>Award Winning Drama Mystery</td>\n",
       "      <td>Adult Cast Psychological</td>\n",
       "      <td>Seinen</td>\n",
       "      <td>Big Comic Original</td>\n",
       "      <td>Urasawa, Naoki (Story &amp; Art)</td>\n",
       "      <td>9.13</td>\n",
       "      <td>#5</td>\n",
       "      <td>#30</td>\n",
       "      <td>197,898</td>\n",
       "      <td>17,278</td>\n",
       "      <td>NaN</td>\n",
       "    </tr>\n",
       "    <tr>\n",
       "      <th>1</th>\n",
       "      <td>Berserk</td>\n",
       "      <td>Manga</td>\n",
       "      <td>Unknown</td>\n",
       "      <td>Unknown</td>\n",
       "      <td>Publishing</td>\n",
       "      <td>Aug 25, 1989 to ?</td>\n",
       "      <td>Action Adventure Award Winning Drama Fantasy H...</td>\n",
       "      <td>Gore Military Mythology Psychological</td>\n",
       "      <td>Seinen</td>\n",
       "      <td>Young Animal</td>\n",
       "      <td>Miura, Kentarou (Story &amp; Art), Studio Gaga (Art)</td>\n",
       "      <td>9.46</td>\n",
       "      <td>#1</td>\n",
       "      <td>#2</td>\n",
       "      <td>565,512</td>\n",
       "      <td>106,420</td>\n",
       "      <td>NaN</td>\n",
       "    </tr>\n",
       "    <tr>\n",
       "      <th>2</th>\n",
       "      <td>20th Century Boys</td>\n",
       "      <td>Manga</td>\n",
       "      <td>22</td>\n",
       "      <td>249</td>\n",
       "      <td>Finished</td>\n",
       "      <td>Sep 27, 1999 to Apr 24, 2006</td>\n",
       "      <td>Award Winning Drama Mystery Sci-Fi</td>\n",
       "      <td>Historical Psychological</td>\n",
       "      <td>Seinen</td>\n",
       "      <td>Big Comic Spirits</td>\n",
       "      <td>Urasawa, Naoki (Story &amp; Art)</td>\n",
       "      <td>8.95</td>\n",
       "      <td>#12</td>\n",
       "      <td>#29</td>\n",
       "      <td>200,990</td>\n",
       "      <td>16,096</td>\n",
       "      <td>NaN</td>\n",
       "    </tr>\n",
       "    <tr>\n",
       "      <th>3</th>\n",
       "      <td>Yokohama Kaidashi Kikou</td>\n",
       "      <td>Manga</td>\n",
       "      <td>14</td>\n",
       "      <td>142</td>\n",
       "      <td>Finished</td>\n",
       "      <td>Apr 25, 1994 to Feb 25, 2006</td>\n",
       "      <td>Award Winning Drama Sci-Fi Slice of Life</td>\n",
       "      <td>0</td>\n",
       "      <td>Seinen</td>\n",
       "      <td>Afternoon</td>\n",
       "      <td>Ashinano, Hitoshi (Story &amp; Art)</td>\n",
       "      <td>8.68</td>\n",
       "      <td>#51</td>\n",
       "      <td>#200</td>\n",
       "      <td>63,658</td>\n",
       "      <td>4,599</td>\n",
       "      <td>NaN</td>\n",
       "    </tr>\n",
       "    <tr>\n",
       "      <th>4</th>\n",
       "      <td>0</td>\n",
       "      <td>Manga</td>\n",
       "      <td>Unknown</td>\n",
       "      <td>Unknown</td>\n",
       "      <td>Publishing</td>\n",
       "      <td>Sep 27, 1989 to ?</td>\n",
       "      <td>Award Winning Sports</td>\n",
       "      <td>0</td>\n",
       "      <td>Shounen</td>\n",
       "      <td>Shounen Magazine (Weekly)</td>\n",
       "      <td>Morikawa, George (Story &amp; Art)</td>\n",
       "      <td>8.69</td>\n",
       "      <td>#49</td>\n",
       "      <td>#171</td>\n",
       "      <td>71,883</td>\n",
       "      <td>5,820</td>\n",
       "      <td>NaN</td>\n",
       "    </tr>\n",
       "  </tbody>\n",
       "</table>\n",
       "</div>"
      ],
      "text/plain": [
       "                   English   Type  Volumes Chapters      Status  \\\n",
       "0                  Monster  Manga       18      162    Finished   \n",
       "1                  Berserk  Manga  Unknown  Unknown  Publishing   \n",
       "2        20th Century Boys  Manga       22      249    Finished   \n",
       "3  Yokohama Kaidashi Kikou  Manga       14      142    Finished   \n",
       "4                        0  Manga  Unknown  Unknown  Publishing   \n",
       "\n",
       "                      Published  \\\n",
       "0   Dec 5, 1994 to Dec 20, 2001   \n",
       "1             Aug 25, 1989 to ?   \n",
       "2  Sep 27, 1999 to Apr 24, 2006   \n",
       "3  Apr 25, 1994 to Feb 25, 2006   \n",
       "4             Sep 27, 1989 to ?   \n",
       "\n",
       "                                              Genres  \\\n",
       "0                        Award Winning Drama Mystery   \n",
       "1  Action Adventure Award Winning Drama Fantasy H...   \n",
       "2                 Award Winning Drama Mystery Sci-Fi   \n",
       "3           Award Winning Drama Sci-Fi Slice of Life   \n",
       "4                               Award Winning Sports   \n",
       "\n",
       "                                  Themes Demographic  \\\n",
       "0               Adult Cast Psychological      Seinen   \n",
       "1  Gore Military Mythology Psychological      Seinen   \n",
       "2               Historical Psychological      Seinen   \n",
       "3                                      0      Seinen   \n",
       "4                                      0     Shounen   \n",
       "\n",
       "               Serialization  \\\n",
       "0         Big Comic Original   \n",
       "1               Young Animal   \n",
       "2          Big Comic Spirits   \n",
       "3                  Afternoon   \n",
       "4  Shounen Magazine (Weekly)   \n",
       "\n",
       "                                            Authors  Score Ranked Popularity  \\\n",
       "0                      Urasawa, Naoki (Story & Art)   9.13     #5        #30   \n",
       "1  Miura, Kentarou (Story & Art), Studio Gaga (Art)   9.46     #1         #2   \n",
       "2                      Urasawa, Naoki (Story & Art)   8.95    #12        #29   \n",
       "3                   Ashinano, Hitoshi (Story & Art)   8.68    #51       #200   \n",
       "4                    Morikawa, George (Story & Art)   8.69    #49       #171   \n",
       "\n",
       "   Members Favorites Demographics  \n",
       "0  197,898    17,278          NaN  \n",
       "1  565,512   106,420          NaN  \n",
       "2  200,990    16,096          NaN  \n",
       "3   63,658     4,599          NaN  \n",
       "4   71,883     5,820          NaN  "
      ]
     },
     "execution_count": 4,
     "metadata": {},
     "output_type": "execute_result"
    }
   ],
   "source": [
    "Data.head()"
   ]
  },
  {
   "cell_type": "markdown",
   "metadata": {},
   "source": [
    "### Cleaning the data"
   ]
  },
  {
   "cell_type": "markdown",
   "metadata": {},
   "source": [
    "#### Create a methods to clean the data :\n"
   ]
  },
  {
   "cell_type": "code",
   "execution_count": 5,
   "metadata": {},
   "outputs": [],
   "source": [
    "class Clean:\n",
    "    def __init__(self,DataFrame):\n",
    "        self.DataFrame = DataFrame\n",
    "    \n",
    "    def DelDuplicates(self):\n",
    "        '''Remove duplicate rows'''\n",
    "        self.DataFrame = self.DataFrame.drop_duplicates(subset=None, keep='first',)\n",
    "        \n",
    "    def ConvertNaN(self):\n",
    "        '''Turns 0 values to NaN'''\n",
    "        self.DataFrame = self.DataFrame.replace('0',np.NaN)\n",
    "        \n",
    "        \n",
    "    def ConvertNumeric(self,columns):\n",
    "        '''Turns any string values to NaN , takes the columns name as an argument'''\n",
    "        self.DataFrame[columns] = pd.to_numeric(self.DataFrame[columns],errors = 'coerce')\n",
    "    \n",
    "    def RemoveHashtag(self,column):\n",
    "        'Remove Hashtag'\n",
    "        self.DataFrame[column] = self.DataFrame[column].replace(to_replace='[#]' , value='', regex=True)\n",
    "                \n",
    "    def NaNtoMinusOne(self,column,fill):\n",
    "        '''Convert all NaN Values to -1'''\n",
    "        fill = str(fill + '-1')\n",
    "        self.DataFrame[column] = self.DataFrame[column].fillna(fill)\n",
    "             \n",
    "    def MinusOnetoNan(self,column):\n",
    "        '''Convert -1 to NaN'''\n",
    "        self.DataFrame[column] = self.DataFrame[column].replace('-1', np.nan)\n",
    "        \n",
    "    def RemoveComma(self,column):\n",
    "        self.DataFrame[column] = self.DataFrame[column].replace(to_replace='[,]' , value='', regex=True)\n",
    "        \n",
    "    def RemoveColumn(self,columns):\n",
    "        self.DataFrame = self.DataFrame.drop(columns,axis = 1)\n",
    "    "
   ]
  },
  {
   "cell_type": "markdown",
   "metadata": {},
   "source": [
    "#### Turn Data to Class Object"
   ]
  },
  {
   "cell_type": "code",
   "execution_count": 6,
   "metadata": {},
   "outputs": [],
   "source": [
    "Manga_Data = Clean(Data)"
   ]
  },
  {
   "cell_type": "markdown",
   "metadata": {},
   "source": [
    "#### Drop Duplicates"
   ]
  },
  {
   "cell_type": "code",
   "execution_count": 7,
   "metadata": {},
   "outputs": [
    {
     "data": {
      "text/html": [
       "<div>\n",
       "<style scoped>\n",
       "    .dataframe tbody tr th:only-of-type {\n",
       "        vertical-align: middle;\n",
       "    }\n",
       "\n",
       "    .dataframe tbody tr th {\n",
       "        vertical-align: top;\n",
       "    }\n",
       "\n",
       "    .dataframe thead th {\n",
       "        text-align: right;\n",
       "    }\n",
       "</style>\n",
       "<table border=\"1\" class=\"dataframe\">\n",
       "  <thead>\n",
       "    <tr style=\"text-align: right;\">\n",
       "      <th></th>\n",
       "      <th>English</th>\n",
       "      <th>Type</th>\n",
       "      <th>Volumes</th>\n",
       "      <th>Chapters</th>\n",
       "      <th>Status</th>\n",
       "      <th>Published</th>\n",
       "      <th>Genres</th>\n",
       "      <th>Themes</th>\n",
       "      <th>Demographic</th>\n",
       "      <th>Serialization</th>\n",
       "      <th>Authors</th>\n",
       "      <th>Score</th>\n",
       "      <th>Ranked</th>\n",
       "      <th>Popularity</th>\n",
       "      <th>Members</th>\n",
       "      <th>Favorites</th>\n",
       "      <th>Demographics</th>\n",
       "    </tr>\n",
       "  </thead>\n",
       "  <tbody>\n",
       "    <tr>\n",
       "      <th>0</th>\n",
       "      <td>Monster</td>\n",
       "      <td>Manga</td>\n",
       "      <td>18</td>\n",
       "      <td>162</td>\n",
       "      <td>Finished</td>\n",
       "      <td>Dec 5, 1994 to Dec 20, 2001</td>\n",
       "      <td>Award Winning Drama Mystery</td>\n",
       "      <td>Adult Cast Psychological</td>\n",
       "      <td>Seinen</td>\n",
       "      <td>Big Comic Original</td>\n",
       "      <td>Urasawa, Naoki (Story &amp; Art)</td>\n",
       "      <td>9.13</td>\n",
       "      <td>#5</td>\n",
       "      <td>#30</td>\n",
       "      <td>197,898</td>\n",
       "      <td>17,278</td>\n",
       "      <td>NaN</td>\n",
       "    </tr>\n",
       "    <tr>\n",
       "      <th>1</th>\n",
       "      <td>Berserk</td>\n",
       "      <td>Manga</td>\n",
       "      <td>Unknown</td>\n",
       "      <td>Unknown</td>\n",
       "      <td>Publishing</td>\n",
       "      <td>Aug 25, 1989 to ?</td>\n",
       "      <td>Action Adventure Award Winning Drama Fantasy H...</td>\n",
       "      <td>Gore Military Mythology Psychological</td>\n",
       "      <td>Seinen</td>\n",
       "      <td>Young Animal</td>\n",
       "      <td>Miura, Kentarou (Story &amp; Art), Studio Gaga (Art)</td>\n",
       "      <td>9.46</td>\n",
       "      <td>#1</td>\n",
       "      <td>#2</td>\n",
       "      <td>565,512</td>\n",
       "      <td>106,420</td>\n",
       "      <td>NaN</td>\n",
       "    </tr>\n",
       "    <tr>\n",
       "      <th>2</th>\n",
       "      <td>20th Century Boys</td>\n",
       "      <td>Manga</td>\n",
       "      <td>22</td>\n",
       "      <td>249</td>\n",
       "      <td>Finished</td>\n",
       "      <td>Sep 27, 1999 to Apr 24, 2006</td>\n",
       "      <td>Award Winning Drama Mystery Sci-Fi</td>\n",
       "      <td>Historical Psychological</td>\n",
       "      <td>Seinen</td>\n",
       "      <td>Big Comic Spirits</td>\n",
       "      <td>Urasawa, Naoki (Story &amp; Art)</td>\n",
       "      <td>8.95</td>\n",
       "      <td>#12</td>\n",
       "      <td>#29</td>\n",
       "      <td>200,990</td>\n",
       "      <td>16,096</td>\n",
       "      <td>NaN</td>\n",
       "    </tr>\n",
       "    <tr>\n",
       "      <th>3</th>\n",
       "      <td>Yokohama Kaidashi Kikou</td>\n",
       "      <td>Manga</td>\n",
       "      <td>14</td>\n",
       "      <td>142</td>\n",
       "      <td>Finished</td>\n",
       "      <td>Apr 25, 1994 to Feb 25, 2006</td>\n",
       "      <td>Award Winning Drama Sci-Fi Slice of Life</td>\n",
       "      <td>0</td>\n",
       "      <td>Seinen</td>\n",
       "      <td>Afternoon</td>\n",
       "      <td>Ashinano, Hitoshi (Story &amp; Art)</td>\n",
       "      <td>8.68</td>\n",
       "      <td>#51</td>\n",
       "      <td>#200</td>\n",
       "      <td>63,658</td>\n",
       "      <td>4,599</td>\n",
       "      <td>NaN</td>\n",
       "    </tr>\n",
       "    <tr>\n",
       "      <th>4</th>\n",
       "      <td>0</td>\n",
       "      <td>Manga</td>\n",
       "      <td>Unknown</td>\n",
       "      <td>Unknown</td>\n",
       "      <td>Publishing</td>\n",
       "      <td>Sep 27, 1989 to ?</td>\n",
       "      <td>Award Winning Sports</td>\n",
       "      <td>0</td>\n",
       "      <td>Shounen</td>\n",
       "      <td>Shounen Magazine (Weekly)</td>\n",
       "      <td>Morikawa, George (Story &amp; Art)</td>\n",
       "      <td>8.69</td>\n",
       "      <td>#49</td>\n",
       "      <td>#171</td>\n",
       "      <td>71,883</td>\n",
       "      <td>5,820</td>\n",
       "      <td>NaN</td>\n",
       "    </tr>\n",
       "  </tbody>\n",
       "</table>\n",
       "</div>"
      ],
      "text/plain": [
       "                   English   Type  Volumes Chapters      Status  \\\n",
       "0                  Monster  Manga       18      162    Finished   \n",
       "1                  Berserk  Manga  Unknown  Unknown  Publishing   \n",
       "2        20th Century Boys  Manga       22      249    Finished   \n",
       "3  Yokohama Kaidashi Kikou  Manga       14      142    Finished   \n",
       "4                        0  Manga  Unknown  Unknown  Publishing   \n",
       "\n",
       "                      Published  \\\n",
       "0   Dec 5, 1994 to Dec 20, 2001   \n",
       "1             Aug 25, 1989 to ?   \n",
       "2  Sep 27, 1999 to Apr 24, 2006   \n",
       "3  Apr 25, 1994 to Feb 25, 2006   \n",
       "4             Sep 27, 1989 to ?   \n",
       "\n",
       "                                              Genres  \\\n",
       "0                        Award Winning Drama Mystery   \n",
       "1  Action Adventure Award Winning Drama Fantasy H...   \n",
       "2                 Award Winning Drama Mystery Sci-Fi   \n",
       "3           Award Winning Drama Sci-Fi Slice of Life   \n",
       "4                               Award Winning Sports   \n",
       "\n",
       "                                  Themes Demographic  \\\n",
       "0               Adult Cast Psychological      Seinen   \n",
       "1  Gore Military Mythology Psychological      Seinen   \n",
       "2               Historical Psychological      Seinen   \n",
       "3                                      0      Seinen   \n",
       "4                                      0     Shounen   \n",
       "\n",
       "               Serialization  \\\n",
       "0         Big Comic Original   \n",
       "1               Young Animal   \n",
       "2          Big Comic Spirits   \n",
       "3                  Afternoon   \n",
       "4  Shounen Magazine (Weekly)   \n",
       "\n",
       "                                            Authors  Score Ranked Popularity  \\\n",
       "0                      Urasawa, Naoki (Story & Art)   9.13     #5        #30   \n",
       "1  Miura, Kentarou (Story & Art), Studio Gaga (Art)   9.46     #1         #2   \n",
       "2                      Urasawa, Naoki (Story & Art)   8.95    #12        #29   \n",
       "3                   Ashinano, Hitoshi (Story & Art)   8.68    #51       #200   \n",
       "4                    Morikawa, George (Story & Art)   8.69    #49       #171   \n",
       "\n",
       "   Members Favorites Demographics  \n",
       "0  197,898    17,278          NaN  \n",
       "1  565,512   106,420          NaN  \n",
       "2  200,990    16,096          NaN  \n",
       "3   63,658     4,599          NaN  \n",
       "4   71,883     5,820          NaN  "
      ]
     },
     "execution_count": 7,
     "metadata": {},
     "output_type": "execute_result"
    }
   ],
   "source": [
    "Manga_Data.DelDuplicates()\n",
    "Manga_Data.DataFrame.head()"
   ]
  },
  {
   "cell_type": "markdown",
   "metadata": {},
   "source": [
    "#### Removing non-numerical columns"
   ]
  },
  {
   "cell_type": "code",
   "execution_count": 8,
   "metadata": {},
   "outputs": [
    {
     "data": {
      "text/html": [
       "<div>\n",
       "<style scoped>\n",
       "    .dataframe tbody tr th:only-of-type {\n",
       "        vertical-align: middle;\n",
       "    }\n",
       "\n",
       "    .dataframe tbody tr th {\n",
       "        vertical-align: top;\n",
       "    }\n",
       "\n",
       "    .dataframe thead th {\n",
       "        text-align: right;\n",
       "    }\n",
       "</style>\n",
       "<table border=\"1\" class=\"dataframe\">\n",
       "  <thead>\n",
       "    <tr style=\"text-align: right;\">\n",
       "      <th></th>\n",
       "      <th>Volumes</th>\n",
       "      <th>Chapters</th>\n",
       "      <th>Score</th>\n",
       "      <th>Ranked</th>\n",
       "      <th>Popularity</th>\n",
       "      <th>Members</th>\n",
       "      <th>Favorites</th>\n",
       "    </tr>\n",
       "  </thead>\n",
       "  <tbody>\n",
       "    <tr>\n",
       "      <th>0</th>\n",
       "      <td>18</td>\n",
       "      <td>162</td>\n",
       "      <td>9.13</td>\n",
       "      <td>#5</td>\n",
       "      <td>#30</td>\n",
       "      <td>197,898</td>\n",
       "      <td>17,278</td>\n",
       "    </tr>\n",
       "    <tr>\n",
       "      <th>1</th>\n",
       "      <td>Unknown</td>\n",
       "      <td>Unknown</td>\n",
       "      <td>9.46</td>\n",
       "      <td>#1</td>\n",
       "      <td>#2</td>\n",
       "      <td>565,512</td>\n",
       "      <td>106,420</td>\n",
       "    </tr>\n",
       "    <tr>\n",
       "      <th>2</th>\n",
       "      <td>22</td>\n",
       "      <td>249</td>\n",
       "      <td>8.95</td>\n",
       "      <td>#12</td>\n",
       "      <td>#29</td>\n",
       "      <td>200,990</td>\n",
       "      <td>16,096</td>\n",
       "    </tr>\n",
       "    <tr>\n",
       "      <th>3</th>\n",
       "      <td>14</td>\n",
       "      <td>142</td>\n",
       "      <td>8.68</td>\n",
       "      <td>#51</td>\n",
       "      <td>#200</td>\n",
       "      <td>63,658</td>\n",
       "      <td>4,599</td>\n",
       "    </tr>\n",
       "    <tr>\n",
       "      <th>4</th>\n",
       "      <td>Unknown</td>\n",
       "      <td>Unknown</td>\n",
       "      <td>8.69</td>\n",
       "      <td>#49</td>\n",
       "      <td>#171</td>\n",
       "      <td>71,883</td>\n",
       "      <td>5,820</td>\n",
       "    </tr>\n",
       "  </tbody>\n",
       "</table>\n",
       "</div>"
      ],
      "text/plain": [
       "   Volumes Chapters  Score Ranked Popularity  Members Favorites\n",
       "0       18      162   9.13     #5        #30  197,898    17,278\n",
       "1  Unknown  Unknown   9.46     #1         #2  565,512   106,420\n",
       "2       22      249   8.95    #12        #29  200,990    16,096\n",
       "3       14      142   8.68    #51       #200   63,658     4,599\n",
       "4  Unknown  Unknown   8.69    #49       #171   71,883     5,820"
      ]
     },
     "execution_count": 8,
     "metadata": {},
     "output_type": "execute_result"
    }
   ],
   "source": [
    "dropcol = ['English', 'Type' ,'Status', 'Published', 'Genres', 'Themes', 'Demographic', 'Serialization', 'Authors','Demographics']\n",
    "Manga_Data.RemoveColumn(dropcol)\n",
    "Manga_Data.DataFrame.head()"
   ]
  },
  {
   "cell_type": "markdown",
   "metadata": {},
   "source": [
    "### Fixing Structural Errors"
   ]
  },
  {
   "cell_type": "markdown",
   "metadata": {},
   "source": [
    "#### Convert 0 etc values to NaN\n",
    "Lets first turn all 0 values into NaN to make it easier down the line"
   ]
  },
  {
   "cell_type": "code",
   "execution_count": 9,
   "metadata": {},
   "outputs": [
    {
     "data": {
      "text/html": [
       "<div>\n",
       "<style scoped>\n",
       "    .dataframe tbody tr th:only-of-type {\n",
       "        vertical-align: middle;\n",
       "    }\n",
       "\n",
       "    .dataframe tbody tr th {\n",
       "        vertical-align: top;\n",
       "    }\n",
       "\n",
       "    .dataframe thead th {\n",
       "        text-align: right;\n",
       "    }\n",
       "</style>\n",
       "<table border=\"1\" class=\"dataframe\">\n",
       "  <thead>\n",
       "    <tr style=\"text-align: right;\">\n",
       "      <th></th>\n",
       "      <th>Volumes</th>\n",
       "      <th>Chapters</th>\n",
       "      <th>Score</th>\n",
       "      <th>Ranked</th>\n",
       "      <th>Popularity</th>\n",
       "      <th>Members</th>\n",
       "      <th>Favorites</th>\n",
       "    </tr>\n",
       "  </thead>\n",
       "  <tbody>\n",
       "    <tr>\n",
       "      <th>0</th>\n",
       "      <td>18</td>\n",
       "      <td>162</td>\n",
       "      <td>9.13</td>\n",
       "      <td>#5</td>\n",
       "      <td>#30</td>\n",
       "      <td>197,898</td>\n",
       "      <td>17,278</td>\n",
       "    </tr>\n",
       "    <tr>\n",
       "      <th>1</th>\n",
       "      <td>Unknown</td>\n",
       "      <td>Unknown</td>\n",
       "      <td>9.46</td>\n",
       "      <td>#1</td>\n",
       "      <td>#2</td>\n",
       "      <td>565,512</td>\n",
       "      <td>106,420</td>\n",
       "    </tr>\n",
       "    <tr>\n",
       "      <th>2</th>\n",
       "      <td>22</td>\n",
       "      <td>249</td>\n",
       "      <td>8.95</td>\n",
       "      <td>#12</td>\n",
       "      <td>#29</td>\n",
       "      <td>200,990</td>\n",
       "      <td>16,096</td>\n",
       "    </tr>\n",
       "    <tr>\n",
       "      <th>3</th>\n",
       "      <td>14</td>\n",
       "      <td>142</td>\n",
       "      <td>8.68</td>\n",
       "      <td>#51</td>\n",
       "      <td>#200</td>\n",
       "      <td>63,658</td>\n",
       "      <td>4,599</td>\n",
       "    </tr>\n",
       "    <tr>\n",
       "      <th>4</th>\n",
       "      <td>Unknown</td>\n",
       "      <td>Unknown</td>\n",
       "      <td>8.69</td>\n",
       "      <td>#49</td>\n",
       "      <td>#171</td>\n",
       "      <td>71,883</td>\n",
       "      <td>5,820</td>\n",
       "    </tr>\n",
       "  </tbody>\n",
       "</table>\n",
       "</div>"
      ],
      "text/plain": [
       "   Volumes Chapters  Score Ranked Popularity  Members Favorites\n",
       "0       18      162   9.13     #5        #30  197,898    17,278\n",
       "1  Unknown  Unknown   9.46     #1         #2  565,512   106,420\n",
       "2       22      249   8.95    #12        #29  200,990    16,096\n",
       "3       14      142   8.68    #51       #200   63,658     4,599\n",
       "4  Unknown  Unknown   8.69    #49       #171   71,883     5,820"
      ]
     },
     "execution_count": 9,
     "metadata": {},
     "output_type": "execute_result"
    }
   ],
   "source": [
    "Manga_Data.ConvertNaN() \n",
    "Manga_Data.DataFrame.head()"
   ]
  },
  {
   "cell_type": "markdown",
   "metadata": {},
   "source": [
    "#### Volumes Scores and Chapters to numeric"
   ]
  },
  {
   "cell_type": "markdown",
   "metadata": {},
   "source": [
    "You see by inspecting the data frame that there are non numeric values in the Chapter and Volumes.These values must be turned into NaN"
   ]
  },
  {
   "cell_type": "code",
   "execution_count": 10,
   "metadata": {},
   "outputs": [
    {
     "data": {
      "text/html": [
       "<div>\n",
       "<style scoped>\n",
       "    .dataframe tbody tr th:only-of-type {\n",
       "        vertical-align: middle;\n",
       "    }\n",
       "\n",
       "    .dataframe tbody tr th {\n",
       "        vertical-align: top;\n",
       "    }\n",
       "\n",
       "    .dataframe thead th {\n",
       "        text-align: right;\n",
       "    }\n",
       "</style>\n",
       "<table border=\"1\" class=\"dataframe\">\n",
       "  <thead>\n",
       "    <tr style=\"text-align: right;\">\n",
       "      <th></th>\n",
       "      <th>Volumes</th>\n",
       "      <th>Chapters</th>\n",
       "      <th>Score</th>\n",
       "      <th>Ranked</th>\n",
       "      <th>Popularity</th>\n",
       "      <th>Members</th>\n",
       "      <th>Favorites</th>\n",
       "    </tr>\n",
       "  </thead>\n",
       "  <tbody>\n",
       "    <tr>\n",
       "      <th>0</th>\n",
       "      <td>18.0</td>\n",
       "      <td>162.0</td>\n",
       "      <td>9.13</td>\n",
       "      <td>#5</td>\n",
       "      <td>#30</td>\n",
       "      <td>197,898</td>\n",
       "      <td>17,278</td>\n",
       "    </tr>\n",
       "    <tr>\n",
       "      <th>1</th>\n",
       "      <td>NaN</td>\n",
       "      <td>NaN</td>\n",
       "      <td>9.46</td>\n",
       "      <td>#1</td>\n",
       "      <td>#2</td>\n",
       "      <td>565,512</td>\n",
       "      <td>106,420</td>\n",
       "    </tr>\n",
       "    <tr>\n",
       "      <th>2</th>\n",
       "      <td>22.0</td>\n",
       "      <td>249.0</td>\n",
       "      <td>8.95</td>\n",
       "      <td>#12</td>\n",
       "      <td>#29</td>\n",
       "      <td>200,990</td>\n",
       "      <td>16,096</td>\n",
       "    </tr>\n",
       "    <tr>\n",
       "      <th>3</th>\n",
       "      <td>14.0</td>\n",
       "      <td>142.0</td>\n",
       "      <td>8.68</td>\n",
       "      <td>#51</td>\n",
       "      <td>#200</td>\n",
       "      <td>63,658</td>\n",
       "      <td>4,599</td>\n",
       "    </tr>\n",
       "    <tr>\n",
       "      <th>4</th>\n",
       "      <td>NaN</td>\n",
       "      <td>NaN</td>\n",
       "      <td>8.69</td>\n",
       "      <td>#49</td>\n",
       "      <td>#171</td>\n",
       "      <td>71,883</td>\n",
       "      <td>5,820</td>\n",
       "    </tr>\n",
       "  </tbody>\n",
       "</table>\n",
       "</div>"
      ],
      "text/plain": [
       "   Volumes  Chapters  Score Ranked Popularity  Members Favorites\n",
       "0     18.0     162.0   9.13     #5        #30  197,898    17,278\n",
       "1      NaN       NaN   9.46     #1         #2  565,512   106,420\n",
       "2     22.0     249.0   8.95    #12        #29  200,990    16,096\n",
       "3     14.0     142.0   8.68    #51       #200   63,658     4,599\n",
       "4      NaN       NaN   8.69    #49       #171   71,883     5,820"
      ]
     },
     "execution_count": 10,
     "metadata": {},
     "output_type": "execute_result"
    }
   ],
   "source": [
    "Manga_Data.ConvertNumeric('Volumes')\n",
    "Manga_Data.ConvertNumeric('Chapters')\n",
    "Manga_Data.ConvertNumeric('Score')\n",
    "Manga_Data.DataFrame.head()"
   ]
  },
  {
   "cell_type": "markdown",
   "metadata": {},
   "source": [
    "### Cleaning the Ranked column"
   ]
  },
  {
   "cell_type": "code",
   "execution_count": 11,
   "metadata": {},
   "outputs": [
    {
     "data": {
      "text/plain": [
       "1089"
      ]
     },
     "execution_count": 11,
     "metadata": {},
     "output_type": "execute_result"
    }
   ],
   "source": [
    "Manga_Data.DataFrame['Ranked'].isna().sum()"
   ]
  },
  {
   "cell_type": "markdown",
   "metadata": {},
   "source": [
    "The ranked column has alot of NaN values, to deal with the fact that the NaN values cannot be string sliced I will change the NaN values to '#-1' as a placeholder , do the slicing then convert all '-1' values back to NaN"
   ]
  },
  {
   "cell_type": "markdown",
   "metadata": {},
   "source": [
    "#### Convert NaN to #-1"
   ]
  },
  {
   "cell_type": "code",
   "execution_count": 12,
   "metadata": {},
   "outputs": [],
   "source": [
    "Manga_Data.NaNtoMinusOne('Ranked','#')"
   ]
  },
  {
   "cell_type": "code",
   "execution_count": 13,
   "metadata": {},
   "outputs": [
    {
     "data": {
      "text/plain": [
       "0"
      ]
     },
     "execution_count": 13,
     "metadata": {},
     "output_type": "execute_result"
    }
   ],
   "source": [
    "Manga_Data.DataFrame['Ranked'].isna().sum()"
   ]
  },
  {
   "cell_type": "markdown",
   "metadata": {},
   "source": [
    "You can see that there is not NaN values so they have succesfully be converted to -1"
   ]
  },
  {
   "cell_type": "markdown",
   "metadata": {},
   "source": [
    "#### Removing the hashtag then converting to numeric"
   ]
  },
  {
   "cell_type": "code",
   "execution_count": 14,
   "metadata": {},
   "outputs": [
    {
     "data": {
      "text/html": [
       "<div>\n",
       "<style scoped>\n",
       "    .dataframe tbody tr th:only-of-type {\n",
       "        vertical-align: middle;\n",
       "    }\n",
       "\n",
       "    .dataframe tbody tr th {\n",
       "        vertical-align: top;\n",
       "    }\n",
       "\n",
       "    .dataframe thead th {\n",
       "        text-align: right;\n",
       "    }\n",
       "</style>\n",
       "<table border=\"1\" class=\"dataframe\">\n",
       "  <thead>\n",
       "    <tr style=\"text-align: right;\">\n",
       "      <th></th>\n",
       "      <th>Volumes</th>\n",
       "      <th>Chapters</th>\n",
       "      <th>Score</th>\n",
       "      <th>Ranked</th>\n",
       "      <th>Popularity</th>\n",
       "      <th>Members</th>\n",
       "      <th>Favorites</th>\n",
       "    </tr>\n",
       "  </thead>\n",
       "  <tbody>\n",
       "    <tr>\n",
       "      <th>0</th>\n",
       "      <td>18.0</td>\n",
       "      <td>162.0</td>\n",
       "      <td>9.13</td>\n",
       "      <td>5.0</td>\n",
       "      <td>#30</td>\n",
       "      <td>197,898</td>\n",
       "      <td>17,278</td>\n",
       "    </tr>\n",
       "    <tr>\n",
       "      <th>1</th>\n",
       "      <td>NaN</td>\n",
       "      <td>NaN</td>\n",
       "      <td>9.46</td>\n",
       "      <td>1.0</td>\n",
       "      <td>#2</td>\n",
       "      <td>565,512</td>\n",
       "      <td>106,420</td>\n",
       "    </tr>\n",
       "    <tr>\n",
       "      <th>2</th>\n",
       "      <td>22.0</td>\n",
       "      <td>249.0</td>\n",
       "      <td>8.95</td>\n",
       "      <td>12.0</td>\n",
       "      <td>#29</td>\n",
       "      <td>200,990</td>\n",
       "      <td>16,096</td>\n",
       "    </tr>\n",
       "    <tr>\n",
       "      <th>3</th>\n",
       "      <td>14.0</td>\n",
       "      <td>142.0</td>\n",
       "      <td>8.68</td>\n",
       "      <td>51.0</td>\n",
       "      <td>#200</td>\n",
       "      <td>63,658</td>\n",
       "      <td>4,599</td>\n",
       "    </tr>\n",
       "    <tr>\n",
       "      <th>4</th>\n",
       "      <td>NaN</td>\n",
       "      <td>NaN</td>\n",
       "      <td>8.69</td>\n",
       "      <td>49.0</td>\n",
       "      <td>#171</td>\n",
       "      <td>71,883</td>\n",
       "      <td>5,820</td>\n",
       "    </tr>\n",
       "  </tbody>\n",
       "</table>\n",
       "</div>"
      ],
      "text/plain": [
       "   Volumes  Chapters  Score  Ranked Popularity  Members Favorites\n",
       "0     18.0     162.0   9.13     5.0        #30  197,898    17,278\n",
       "1      NaN       NaN   9.46     1.0         #2  565,512   106,420\n",
       "2     22.0     249.0   8.95    12.0        #29  200,990    16,096\n",
       "3     14.0     142.0   8.68    51.0       #200   63,658     4,599\n",
       "4      NaN       NaN   8.69    49.0       #171   71,883     5,820"
      ]
     },
     "execution_count": 14,
     "metadata": {},
     "output_type": "execute_result"
    }
   ],
   "source": [
    "Manga_Data.RemoveHashtag('Ranked')\n",
    "Manga_Data.MinusOnetoNan('Ranked')\n",
    "Manga_Data.ConvertNumeric('Ranked')\n",
    "Manga_Data.DataFrame.head()"
   ]
  },
  {
   "cell_type": "markdown",
   "metadata": {},
   "source": [
    "#### Removing the Hashtag for the Popularity column"
   ]
  },
  {
   "cell_type": "code",
   "execution_count": 15,
   "metadata": {},
   "outputs": [
    {
     "data": {
      "text/html": [
       "<div>\n",
       "<style scoped>\n",
       "    .dataframe tbody tr th:only-of-type {\n",
       "        vertical-align: middle;\n",
       "    }\n",
       "\n",
       "    .dataframe tbody tr th {\n",
       "        vertical-align: top;\n",
       "    }\n",
       "\n",
       "    .dataframe thead th {\n",
       "        text-align: right;\n",
       "    }\n",
       "</style>\n",
       "<table border=\"1\" class=\"dataframe\">\n",
       "  <thead>\n",
       "    <tr style=\"text-align: right;\">\n",
       "      <th></th>\n",
       "      <th>Volumes</th>\n",
       "      <th>Chapters</th>\n",
       "      <th>Score</th>\n",
       "      <th>Ranked</th>\n",
       "      <th>Popularity</th>\n",
       "      <th>Members</th>\n",
       "      <th>Favorites</th>\n",
       "    </tr>\n",
       "  </thead>\n",
       "  <tbody>\n",
       "    <tr>\n",
       "      <th>0</th>\n",
       "      <td>18.0</td>\n",
       "      <td>162.0</td>\n",
       "      <td>9.13</td>\n",
       "      <td>5.0</td>\n",
       "      <td>30</td>\n",
       "      <td>197,898</td>\n",
       "      <td>17,278</td>\n",
       "    </tr>\n",
       "    <tr>\n",
       "      <th>1</th>\n",
       "      <td>NaN</td>\n",
       "      <td>NaN</td>\n",
       "      <td>9.46</td>\n",
       "      <td>1.0</td>\n",
       "      <td>2</td>\n",
       "      <td>565,512</td>\n",
       "      <td>106,420</td>\n",
       "    </tr>\n",
       "    <tr>\n",
       "      <th>2</th>\n",
       "      <td>22.0</td>\n",
       "      <td>249.0</td>\n",
       "      <td>8.95</td>\n",
       "      <td>12.0</td>\n",
       "      <td>29</td>\n",
       "      <td>200,990</td>\n",
       "      <td>16,096</td>\n",
       "    </tr>\n",
       "    <tr>\n",
       "      <th>3</th>\n",
       "      <td>14.0</td>\n",
       "      <td>142.0</td>\n",
       "      <td>8.68</td>\n",
       "      <td>51.0</td>\n",
       "      <td>200</td>\n",
       "      <td>63,658</td>\n",
       "      <td>4,599</td>\n",
       "    </tr>\n",
       "    <tr>\n",
       "      <th>4</th>\n",
       "      <td>NaN</td>\n",
       "      <td>NaN</td>\n",
       "      <td>8.69</td>\n",
       "      <td>49.0</td>\n",
       "      <td>171</td>\n",
       "      <td>71,883</td>\n",
       "      <td>5,820</td>\n",
       "    </tr>\n",
       "  </tbody>\n",
       "</table>\n",
       "</div>"
      ],
      "text/plain": [
       "   Volumes  Chapters  Score  Ranked  Popularity  Members Favorites\n",
       "0     18.0     162.0   9.13     5.0          30  197,898    17,278\n",
       "1      NaN       NaN   9.46     1.0           2  565,512   106,420\n",
       "2     22.0     249.0   8.95    12.0          29  200,990    16,096\n",
       "3     14.0     142.0   8.68    51.0         200   63,658     4,599\n",
       "4      NaN       NaN   8.69    49.0         171   71,883     5,820"
      ]
     },
     "execution_count": 15,
     "metadata": {},
     "output_type": "execute_result"
    }
   ],
   "source": [
    "Manga_Data.NaNtoMinusOne('Popularity','#')\n",
    "Manga_Data.RemoveHashtag('Popularity')\n",
    "Manga_Data.MinusOnetoNan('Popularity')\n",
    "Manga_Data.ConvertNumeric('Popularity')\n",
    "Manga_Data.DataFrame.head()"
   ]
  },
  {
   "cell_type": "markdown",
   "metadata": {},
   "source": [
    "#### Removing commas for Members\n"
   ]
  },
  {
   "cell_type": "code",
   "execution_count": 16,
   "metadata": {},
   "outputs": [
    {
     "data": {
      "text/html": [
       "<div>\n",
       "<style scoped>\n",
       "    .dataframe tbody tr th:only-of-type {\n",
       "        vertical-align: middle;\n",
       "    }\n",
       "\n",
       "    .dataframe tbody tr th {\n",
       "        vertical-align: top;\n",
       "    }\n",
       "\n",
       "    .dataframe thead th {\n",
       "        text-align: right;\n",
       "    }\n",
       "</style>\n",
       "<table border=\"1\" class=\"dataframe\">\n",
       "  <thead>\n",
       "    <tr style=\"text-align: right;\">\n",
       "      <th></th>\n",
       "      <th>Volumes</th>\n",
       "      <th>Chapters</th>\n",
       "      <th>Score</th>\n",
       "      <th>Ranked</th>\n",
       "      <th>Popularity</th>\n",
       "      <th>Members</th>\n",
       "      <th>Favorites</th>\n",
       "    </tr>\n",
       "  </thead>\n",
       "  <tbody>\n",
       "    <tr>\n",
       "      <th>0</th>\n",
       "      <td>18.0</td>\n",
       "      <td>162.0</td>\n",
       "      <td>9.13</td>\n",
       "      <td>5.0</td>\n",
       "      <td>30</td>\n",
       "      <td>197898</td>\n",
       "      <td>17,278</td>\n",
       "    </tr>\n",
       "    <tr>\n",
       "      <th>1</th>\n",
       "      <td>NaN</td>\n",
       "      <td>NaN</td>\n",
       "      <td>9.46</td>\n",
       "      <td>1.0</td>\n",
       "      <td>2</td>\n",
       "      <td>565512</td>\n",
       "      <td>106,420</td>\n",
       "    </tr>\n",
       "    <tr>\n",
       "      <th>2</th>\n",
       "      <td>22.0</td>\n",
       "      <td>249.0</td>\n",
       "      <td>8.95</td>\n",
       "      <td>12.0</td>\n",
       "      <td>29</td>\n",
       "      <td>200990</td>\n",
       "      <td>16,096</td>\n",
       "    </tr>\n",
       "    <tr>\n",
       "      <th>3</th>\n",
       "      <td>14.0</td>\n",
       "      <td>142.0</td>\n",
       "      <td>8.68</td>\n",
       "      <td>51.0</td>\n",
       "      <td>200</td>\n",
       "      <td>63658</td>\n",
       "      <td>4,599</td>\n",
       "    </tr>\n",
       "    <tr>\n",
       "      <th>4</th>\n",
       "      <td>NaN</td>\n",
       "      <td>NaN</td>\n",
       "      <td>8.69</td>\n",
       "      <td>49.0</td>\n",
       "      <td>171</td>\n",
       "      <td>71883</td>\n",
       "      <td>5,820</td>\n",
       "    </tr>\n",
       "  </tbody>\n",
       "</table>\n",
       "</div>"
      ],
      "text/plain": [
       "   Volumes  Chapters  Score  Ranked  Popularity  Members Favorites\n",
       "0     18.0     162.0   9.13     5.0          30   197898    17,278\n",
       "1      NaN       NaN   9.46     1.0           2   565512   106,420\n",
       "2     22.0     249.0   8.95    12.0          29   200990    16,096\n",
       "3     14.0     142.0   8.68    51.0         200    63658     4,599\n",
       "4      NaN       NaN   8.69    49.0         171    71883     5,820"
      ]
     },
     "execution_count": 16,
     "metadata": {},
     "output_type": "execute_result"
    }
   ],
   "source": [
    "Manga_Data.NaNtoMinusOne('Members',',')\n",
    "Manga_Data.RemoveComma('Members')\n",
    "Manga_Data.MinusOnetoNan('Members')\n",
    "Manga_Data.ConvertNumeric('Members')\n",
    "Manga_Data.DataFrame.head()"
   ]
  },
  {
   "cell_type": "markdown",
   "metadata": {},
   "source": [
    "#### Removing commas for Favorites"
   ]
  },
  {
   "cell_type": "code",
   "execution_count": 17,
   "metadata": {},
   "outputs": [
    {
     "data": {
      "text/html": [
       "<div>\n",
       "<style scoped>\n",
       "    .dataframe tbody tr th:only-of-type {\n",
       "        vertical-align: middle;\n",
       "    }\n",
       "\n",
       "    .dataframe tbody tr th {\n",
       "        vertical-align: top;\n",
       "    }\n",
       "\n",
       "    .dataframe thead th {\n",
       "        text-align: right;\n",
       "    }\n",
       "</style>\n",
       "<table border=\"1\" class=\"dataframe\">\n",
       "  <thead>\n",
       "    <tr style=\"text-align: right;\">\n",
       "      <th></th>\n",
       "      <th>Volumes</th>\n",
       "      <th>Chapters</th>\n",
       "      <th>Score</th>\n",
       "      <th>Ranked</th>\n",
       "      <th>Popularity</th>\n",
       "      <th>Members</th>\n",
       "      <th>Favorites</th>\n",
       "    </tr>\n",
       "  </thead>\n",
       "  <tbody>\n",
       "    <tr>\n",
       "      <th>0</th>\n",
       "      <td>18.0</td>\n",
       "      <td>162.0</td>\n",
       "      <td>9.13</td>\n",
       "      <td>5.0</td>\n",
       "      <td>30</td>\n",
       "      <td>197898</td>\n",
       "      <td>17278.0</td>\n",
       "    </tr>\n",
       "    <tr>\n",
       "      <th>1</th>\n",
       "      <td>NaN</td>\n",
       "      <td>NaN</td>\n",
       "      <td>9.46</td>\n",
       "      <td>1.0</td>\n",
       "      <td>2</td>\n",
       "      <td>565512</td>\n",
       "      <td>106420.0</td>\n",
       "    </tr>\n",
       "    <tr>\n",
       "      <th>2</th>\n",
       "      <td>22.0</td>\n",
       "      <td>249.0</td>\n",
       "      <td>8.95</td>\n",
       "      <td>12.0</td>\n",
       "      <td>29</td>\n",
       "      <td>200990</td>\n",
       "      <td>16096.0</td>\n",
       "    </tr>\n",
       "    <tr>\n",
       "      <th>3</th>\n",
       "      <td>14.0</td>\n",
       "      <td>142.0</td>\n",
       "      <td>8.68</td>\n",
       "      <td>51.0</td>\n",
       "      <td>200</td>\n",
       "      <td>63658</td>\n",
       "      <td>4599.0</td>\n",
       "    </tr>\n",
       "    <tr>\n",
       "      <th>4</th>\n",
       "      <td>NaN</td>\n",
       "      <td>NaN</td>\n",
       "      <td>8.69</td>\n",
       "      <td>49.0</td>\n",
       "      <td>171</td>\n",
       "      <td>71883</td>\n",
       "      <td>5820.0</td>\n",
       "    </tr>\n",
       "  </tbody>\n",
       "</table>\n",
       "</div>"
      ],
      "text/plain": [
       "   Volumes  Chapters  Score  Ranked  Popularity  Members  Favorites\n",
       "0     18.0     162.0   9.13     5.0          30   197898    17278.0\n",
       "1      NaN       NaN   9.46     1.0           2   565512   106420.0\n",
       "2     22.0     249.0   8.95    12.0          29   200990    16096.0\n",
       "3     14.0     142.0   8.68    51.0         200    63658     4599.0\n",
       "4      NaN       NaN   8.69    49.0         171    71883     5820.0"
      ]
     },
     "execution_count": 17,
     "metadata": {},
     "output_type": "execute_result"
    }
   ],
   "source": [
    "Manga_Data.NaNtoMinusOne('Favorites',',')\n",
    "Manga_Data.RemoveComma('Favorites')\n",
    "Manga_Data.MinusOnetoNan('Favorites')\n",
    "Manga_Data.ConvertNumeric('Favorites')\n",
    "Manga_Data.DataFrame.head()"
   ]
  },
  {
   "cell_type": "markdown",
   "metadata": {},
   "source": [
    "#### Convert Certain Columns to int"
   ]
  },
  {
   "cell_type": "code",
   "execution_count": 18,
   "metadata": {},
   "outputs": [],
   "source": [
    "columns = {'Volumes': int,'Chapters': int,'Ranked': int,'Score': float ,'Popularity': int,'Members': int,'Favorites': int}\n",
    "Manga_Data = Manga_Data.DataFrame.astype(columns,errors = 'ignore')"
   ]
  },
  {
   "cell_type": "code",
   "execution_count": 19,
   "metadata": {},
   "outputs": [
    {
     "data": {
      "text/html": [
       "<div>\n",
       "<style scoped>\n",
       "    .dataframe tbody tr th:only-of-type {\n",
       "        vertical-align: middle;\n",
       "    }\n",
       "\n",
       "    .dataframe tbody tr th {\n",
       "        vertical-align: top;\n",
       "    }\n",
       "\n",
       "    .dataframe thead th {\n",
       "        text-align: right;\n",
       "    }\n",
       "</style>\n",
       "<table border=\"1\" class=\"dataframe\">\n",
       "  <thead>\n",
       "    <tr style=\"text-align: right;\">\n",
       "      <th></th>\n",
       "      <th>Volumes</th>\n",
       "      <th>Chapters</th>\n",
       "      <th>Score</th>\n",
       "      <th>Ranked</th>\n",
       "      <th>Popularity</th>\n",
       "      <th>Members</th>\n",
       "      <th>Favorites</th>\n",
       "    </tr>\n",
       "  </thead>\n",
       "  <tbody>\n",
       "    <tr>\n",
       "      <th>0</th>\n",
       "      <td>18.0</td>\n",
       "      <td>162.0</td>\n",
       "      <td>9.13</td>\n",
       "      <td>5.0</td>\n",
       "      <td>30</td>\n",
       "      <td>197898</td>\n",
       "      <td>17278.0</td>\n",
       "    </tr>\n",
       "    <tr>\n",
       "      <th>1</th>\n",
       "      <td>NaN</td>\n",
       "      <td>NaN</td>\n",
       "      <td>9.46</td>\n",
       "      <td>1.0</td>\n",
       "      <td>2</td>\n",
       "      <td>565512</td>\n",
       "      <td>106420.0</td>\n",
       "    </tr>\n",
       "    <tr>\n",
       "      <th>2</th>\n",
       "      <td>22.0</td>\n",
       "      <td>249.0</td>\n",
       "      <td>8.95</td>\n",
       "      <td>12.0</td>\n",
       "      <td>29</td>\n",
       "      <td>200990</td>\n",
       "      <td>16096.0</td>\n",
       "    </tr>\n",
       "    <tr>\n",
       "      <th>3</th>\n",
       "      <td>14.0</td>\n",
       "      <td>142.0</td>\n",
       "      <td>8.68</td>\n",
       "      <td>51.0</td>\n",
       "      <td>200</td>\n",
       "      <td>63658</td>\n",
       "      <td>4599.0</td>\n",
       "    </tr>\n",
       "    <tr>\n",
       "      <th>4</th>\n",
       "      <td>NaN</td>\n",
       "      <td>NaN</td>\n",
       "      <td>8.69</td>\n",
       "      <td>49.0</td>\n",
       "      <td>171</td>\n",
       "      <td>71883</td>\n",
       "      <td>5820.0</td>\n",
       "    </tr>\n",
       "  </tbody>\n",
       "</table>\n",
       "</div>"
      ],
      "text/plain": [
       "   Volumes  Chapters  Score  Ranked  Popularity  Members  Favorites\n",
       "0     18.0     162.0   9.13     5.0          30   197898    17278.0\n",
       "1      NaN       NaN   9.46     1.0           2   565512   106420.0\n",
       "2     22.0     249.0   8.95    12.0          29   200990    16096.0\n",
       "3     14.0     142.0   8.68    51.0         200    63658     4599.0\n",
       "4      NaN       NaN   8.69    49.0         171    71883     5820.0"
      ]
     },
     "execution_count": 19,
     "metadata": {},
     "output_type": "execute_result"
    }
   ],
   "source": [
    "Manga_Data.head()"
   ]
  },
  {
   "cell_type": "markdown",
   "metadata": {},
   "source": [
    "#### Analysis"
   ]
  },
  {
   "cell_type": "markdown",
   "metadata": {},
   "source": [
    "Lets first inspect the data through histograms and scatter diagrams"
   ]
  },
  {
   "cell_type": "code",
   "execution_count": 20,
   "metadata": {},
   "outputs": [
    {
     "data": {
      "text/plain": [
       "array([[<matplotlib.axes._subplots.AxesSubplot object at 0x000001EAD20081F0>,\n",
       "        <matplotlib.axes._subplots.AxesSubplot object at 0x000001EAD26E06D0>,\n",
       "        <matplotlib.axes._subplots.AxesSubplot object at 0x000001EAD270DB20>],\n",
       "       [<matplotlib.axes._subplots.AxesSubplot object at 0x000001EAD2736FA0>,\n",
       "        <matplotlib.axes._subplots.AxesSubplot object at 0x000001EAD276C430>,\n",
       "        <matplotlib.axes._subplots.AxesSubplot object at 0x000001EAD27977C0>],\n",
       "       [<matplotlib.axes._subplots.AxesSubplot object at 0x000001EAD27978B0>,\n",
       "        <matplotlib.axes._subplots.AxesSubplot object at 0x000001EAD27FD190>,\n",
       "        <matplotlib.axes._subplots.AxesSubplot object at 0x000001EAD281E6A0>]],\n",
       "      dtype=object)"
      ]
     },
     "execution_count": 20,
     "metadata": {},
     "output_type": "execute_result"
    },
    {
     "data": {
      "image/png": "[encoded data removed]",
      "text/plain": [
       "<Figure size 1152x648 with 9 Axes>"
      ]
     },
     "metadata": {
      "needs_background": "light"
     },
     "output_type": "display_data"
    }
   ],
   "source": [
    "Manga_Data.hist(bins = 50,figsize = (16,9))"
   ]
  },
  {
   "cell_type": "markdown",
   "metadata": {},
   "source": [
    "This data is has alot of outliers so will be standardised in the pipeline later"
   ]
  },
  {
   "cell_type": "markdown",
   "metadata": {},
   "source": [
    "#### Looking at Correlations"
   ]
  },
  {
   "cell_type": "code",
   "execution_count": 21,
   "metadata": {},
   "outputs": [
    {
     "data": {
      "text/plain": [
       "Score         1.000000\n",
       "Popularity    0.224244\n",
       "Chapters      0.208302\n",
       "Volumes       0.194518\n",
       "Members       0.194367\n",
       "Favorites     0.186521\n",
       "Ranked       -0.947498\n",
       "Name: Score, dtype: float64"
      ]
     },
     "execution_count": 21,
     "metadata": {},
     "output_type": "execute_result"
    }
   ],
   "source": [
    "corr_matrix = Manga_Data.corr()\n",
    "corr_matrix['Score'].sort_values(ascending=False)"
   ]
  },
  {
   "cell_type": "markdown",
   "metadata": {},
   "source": [
    "The most promising attributes with correlation are the Ranking data and the score data which have a strong negative linear correlation, lets look more in depth at the data by doing a scatter plots"
   ]
  },
  {
   "cell_type": "markdown",
   "metadata": {},
   "source": [
    "#### Scatter Matrix"
   ]
  },
  {
   "cell_type": "code",
   "execution_count": 22,
   "metadata": {},
   "outputs": [
    {
     "data": {
      "text/plain": [
       "array([[<matplotlib.axes._subplots.AxesSubplot object at 0x000001EAD2A7F550>,\n",
       "        <matplotlib.axes._subplots.AxesSubplot object at 0x000001EAD2F8CA90>,\n",
       "        <matplotlib.axes._subplots.AxesSubplot object at 0x000001EAD2F9BD30>,\n",
       "        <matplotlib.axes._subplots.AxesSubplot object at 0x000001EAD325AD30>,\n",
       "        <matplotlib.axes._subplots.AxesSubplot object at 0x000001EAD32931C0>,\n",
       "        <matplotlib.axes._subplots.AxesSubplot object at 0x000001EAD32C0550>,\n",
       "        <matplotlib.axes._subplots.AxesSubplot object at 0x000001EAD32C0640>],\n",
       "       [<matplotlib.axes._subplots.AxesSubplot object at 0x000001EAD32EFAF0>,\n",
       "        <matplotlib.axes._subplots.AxesSubplot object at 0x000001EAD3356340>,\n",
       "        <matplotlib.axes._subplots.AxesSubplot object at 0x000001EAD3381790>,\n",
       "        <matplotlib.axes._subplots.AxesSubplot object at 0x000001EAD33AEBE0>,\n",
       "        <matplotlib.axes._subplots.AxesSubplot object at 0x000001EAD33DA0D0>,\n",
       "        <matplotlib.axes._subplots.AxesSubplot object at 0x000001EAD34134C0>,\n",
       "        <matplotlib.axes._subplots.AxesSubplot object at 0x000001EAD343F940>],\n",
       "       [<matplotlib.axes._subplots.AxesSubplot object at 0x000001EAD346BD90>,\n",
       "        <matplotlib.axes._subplots.AxesSubplot object at 0x000001EAD34A5220>,\n",
       "        <matplotlib.axes._subplots.AxesSubplot object at 0x000001EAD34D3670>,\n",
       "        <matplotlib.axes._subplots.AxesSubplot object at 0x000001EAD44D1AC0>,\n",
       "        <matplotlib.axes._subplots.AxesSubplot object at 0x000001EAD44FFF10>,\n",
       "        <matplotlib.axes._subplots.AxesSubplot object at 0x000001EAD453A130>,\n",
       "        <matplotlib.axes._subplots.AxesSubplot object at 0x000001EAD45628B0>],\n",
       "       [<matplotlib.axes._subplots.AxesSubplot object at 0x000001EAD458C0D0>,\n",
       "        <matplotlib.axes._subplots.AxesSubplot object at 0x000001EAD45C17F0>,\n",
       "        <matplotlib.axes._subplots.AxesSubplot object at 0x000001EAD45EAF70>,\n",
       "        <matplotlib.axes._subplots.AxesSubplot object at 0x000001EAD4621730>,\n",
       "        <matplotlib.axes._subplots.AxesSubplot object at 0x000001EAD464BEB0>,\n",
       "        <matplotlib.axes._subplots.AxesSubplot object at 0x000001EAD4680670>,\n",
       "        <matplotlib.axes._subplots.AxesSubplot object at 0x000001EAD46AADF0>],\n",
       "       [<matplotlib.axes._subplots.AxesSubplot object at 0x000001EAD46DF5B0>,\n",
       "        <matplotlib.axes._subplots.AxesSubplot object at 0x000001EAD4708D30>,\n",
       "        <matplotlib.axes._subplots.AxesSubplot object at 0x000001EAD473D4F0>,\n",
       "        <matplotlib.axes._subplots.AxesSubplot object at 0x000001EAD4767C70>,\n",
       "        <matplotlib.axes._subplots.AxesSubplot object at 0x000001EAD479F430>,\n",
       "        <matplotlib.axes._subplots.AxesSubplot object at 0x000001EAD47C8BB0>,\n",
       "        <matplotlib.axes._subplots.AxesSubplot object at 0x000001EAD47FD370>],\n",
       "       [<matplotlib.axes._subplots.AxesSubplot object at 0x000001EAD4827B20>,\n",
       "        <matplotlib.axes._subplots.AxesSubplot object at 0x000001EAD485E2E0>,\n",
       "        <matplotlib.axes._subplots.AxesSubplot object at 0x000001EAD4885A60>,\n",
       "        <matplotlib.axes._subplots.AxesSubplot object at 0x000001EAD48BC220>,\n",
       "        <matplotlib.axes._subplots.AxesSubplot object at 0x000001EAD48E59A0>,\n",
       "        <matplotlib.axes._subplots.AxesSubplot object at 0x000001EAD491E160>,\n",
       "        <matplotlib.axes._subplots.AxesSubplot object at 0x000001EAD49458E0>],\n",
       "       [<matplotlib.axes._subplots.AxesSubplot object at 0x000001EAD4970100>,\n",
       "        <matplotlib.axes._subplots.AxesSubplot object at 0x000001EAD49A6820>,\n",
       "        <matplotlib.axes._subplots.AxesSubplot object at 0x000001EAD49CEFA0>,\n",
       "        <matplotlib.axes._subplots.AxesSubplot object at 0x000001EAD4A04760>,\n",
       "        <matplotlib.axes._subplots.AxesSubplot object at 0x000001EAD4A2EEE0>,\n",
       "        <matplotlib.axes._subplots.AxesSubplot object at 0x000001EAD28B46A0>,\n",
       "        <matplotlib.axes._subplots.AxesSubplot object at 0x000001EAD2F96B80>]],\n",
       "      dtype=object)"
      ]
     },
     "execution_count": 22,
     "metadata": {},
     "output_type": "execute_result"
    },
    {
     "data": {
      "image/png": "[encoded data removed]",
      "text/plain": [
       "<Figure size 1152x648 with 49 Axes>"
      ]
     },
     "metadata": {
      "needs_background": "light"
     },
     "output_type": "display_data"
    }
   ],
   "source": [
    "from pandas.plotting import scatter_matrix\n",
    "%matplotlib inline\n",
    "scatter_matrix(Manga_Data, figsize=(16,9))\n"
   ]
  },
  {
   "cell_type": "markdown",
   "metadata": {},
   "source": [
    "The Score and Ranked data seem to have a strict trend"
   ]
  },
  {
   "cell_type": "code",
   "execution_count": 23,
   "metadata": {},
   "outputs": [
    {
     "data": {
      "text/plain": [
       "Text(0, 0.5, 'Score')"
      ]
     },
     "execution_count": 23,
     "metadata": {},
     "output_type": "execute_result"
    },
    {
     "data": {
      "image/png": "[encoded data removed]",
      "text/plain": [
       "<Figure size 1152x648 with 1 Axes>"
      ]
     },
     "metadata": {
      "needs_background": "light"
     },
     "output_type": "display_data"
    }
   ],
   "source": [
    "plt.figure(figsize = (16,9))\n",
    "plt.plot(Manga_Data['Ranked'],Manga_Data['Score'],'.')\n",
    "plt.title('Score Against Rank',fontsize = 13,fontweight = 'bold')\n",
    "plt.xlabel('Rank',fontsize = 12)\n",
    "plt.ylabel('Score',fontsize = 12)"
   ]
  },
  {
   "cell_type": "markdown",
   "metadata": {},
   "source": [
    "After doing more research on the way the attributes are created the Rank of the Manga is calculated using the score , this will not give an accurate model as the model will assume that the score has to be estimated with the other features of the model providing there is not a clear relationship.The Ranked column must be removed"
   ]
  },
  {
   "cell_type": "markdown",
   "metadata": {},
   "source": [
    "#### Remove the Ranked Column\n"
   ]
  },
  {
   "cell_type": "code",
   "execution_count": 24,
   "metadata": {},
   "outputs": [
    {
     "data": {
      "text/html": [
       "<div>\n",
       "<style scoped>\n",
       "    .dataframe tbody tr th:only-of-type {\n",
       "        vertical-align: middle;\n",
       "    }\n",
       "\n",
       "    .dataframe tbody tr th {\n",
       "        vertical-align: top;\n",
       "    }\n",
       "\n",
       "    .dataframe thead th {\n",
       "        text-align: right;\n",
       "    }\n",
       "</style>\n",
       "<table border=\"1\" class=\"dataframe\">\n",
       "  <thead>\n",
       "    <tr style=\"text-align: right;\">\n",
       "      <th></th>\n",
       "      <th>Volumes</th>\n",
       "      <th>Chapters</th>\n",
       "      <th>Score</th>\n",
       "      <th>Popularity</th>\n",
       "      <th>Members</th>\n",
       "      <th>Favorites</th>\n",
       "    </tr>\n",
       "  </thead>\n",
       "  <tbody>\n",
       "    <tr>\n",
       "      <th>0</th>\n",
       "      <td>18.0</td>\n",
       "      <td>162.0</td>\n",
       "      <td>9.13</td>\n",
       "      <td>30</td>\n",
       "      <td>197898</td>\n",
       "      <td>17278.0</td>\n",
       "    </tr>\n",
       "    <tr>\n",
       "      <th>1</th>\n",
       "      <td>NaN</td>\n",
       "      <td>NaN</td>\n",
       "      <td>9.46</td>\n",
       "      <td>2</td>\n",
       "      <td>565512</td>\n",
       "      <td>106420.0</td>\n",
       "    </tr>\n",
       "    <tr>\n",
       "      <th>2</th>\n",
       "      <td>22.0</td>\n",
       "      <td>249.0</td>\n",
       "      <td>8.95</td>\n",
       "      <td>29</td>\n",
       "      <td>200990</td>\n",
       "      <td>16096.0</td>\n",
       "    </tr>\n",
       "    <tr>\n",
       "      <th>3</th>\n",
       "      <td>14.0</td>\n",
       "      <td>142.0</td>\n",
       "      <td>8.68</td>\n",
       "      <td>200</td>\n",
       "      <td>63658</td>\n",
       "      <td>4599.0</td>\n",
       "    </tr>\n",
       "    <tr>\n",
       "      <th>4</th>\n",
       "      <td>NaN</td>\n",
       "      <td>NaN</td>\n",
       "      <td>8.69</td>\n",
       "      <td>171</td>\n",
       "      <td>71883</td>\n",
       "      <td>5820.0</td>\n",
       "    </tr>\n",
       "  </tbody>\n",
       "</table>\n",
       "</div>"
      ],
      "text/plain": [
       "   Volumes  Chapters  Score  Popularity  Members  Favorites\n",
       "0     18.0     162.0   9.13          30   197898    17278.0\n",
       "1      NaN       NaN   9.46           2   565512   106420.0\n",
       "2     22.0     249.0   8.95          29   200990    16096.0\n",
       "3     14.0     142.0   8.68         200    63658     4599.0\n",
       "4      NaN       NaN   8.69         171    71883     5820.0"
      ]
     },
     "execution_count": 24,
     "metadata": {},
     "output_type": "execute_result"
    }
   ],
   "source": [
    "Manga_Data = Manga_Data.drop('Ranked',axis = 1)\n",
    "Manga_Data.head()"
   ]
  },
  {
   "cell_type": "markdown",
   "metadata": {},
   "source": [
    "#### Now to do the test train split:\n",
    "The test train split cant be imputed at the same time and must be done seperately to prevent data leakage"
   ]
  },
  {
   "cell_type": "code",
   "execution_count": 25,
   "metadata": {},
   "outputs": [],
   "source": [
    "from sklearn.model_selection import train_test_split\n",
    "train_set,test_set = train_test_split(Manga_Data,test_size = 0.2,random_state = 42)"
   ]
  },
  {
   "cell_type": "markdown",
   "metadata": {},
   "source": [
    "#### Now split into labeled and unlabeled data"
   ]
  },
  {
   "cell_type": "code",
   "execution_count": 26,
   "metadata": {},
   "outputs": [],
   "source": [
    "### Train Set ###\n",
    "train_set_labels = train_set['Score']\n",
    "train_set_data = train_set.drop('Score', axis = 1)\n",
    "\n",
    "### Test Set ###\n",
    "test_set_labels = test_set['Score']\n",
    "test_set_data = test_set.drop('Score',axis = 1)"
   ]
  },
  {
   "cell_type": "markdown",
   "metadata": {},
   "source": [
    "### Transformation Pipeline\n",
    "As there are going to be a couple transformations on the data it is easier to use a transformation pipline\n",
    "\n",
    "The data must have a chapters per volume attribute , the data must be imputed using KNN impute for missing values and the data will be scaled using Standard Scaler"
   ]
  },
  {
   "cell_type": "markdown",
   "metadata": {},
   "source": [
    "#### Combine attributes"
   ]
  },
  {
   "cell_type": "code",
   "execution_count": 27,
   "metadata": {},
   "outputs": [],
   "source": [
    "from sklearn.base import BaseEstimator, TransformerMixin\n",
    "chapter_ix = 1\n",
    "volumes_ix = 0\n",
    "\n",
    "class CombinedAttributesAdder(BaseEstimator, TransformerMixin):\n",
    "    \n",
    "    def fit(self, X, y=None):\n",
    "        return self  # nothing else to do\n",
    "    \n",
    "    def transform(self, X):\n",
    "        Chapters_per_Volume = X[:, chapter_ix] / X[:, volumes_ix]\n",
    "        \n",
    "        return np.c_[X, Chapters_per_Volume]"
   ]
  },
  {
   "cell_type": "markdown",
   "metadata": {},
   "source": [
    "#### Create Pipeline"
   ]
  },
  {
   "cell_type": "code",
   "execution_count": 28,
   "metadata": {},
   "outputs": [],
   "source": [
    "from sklearn.pipeline import Pipeline\n",
    "from sklearn.impute import KNNImputer\n",
    "from sklearn.preprocessing import StandardScaler"
   ]
  },
  {
   "cell_type": "code",
   "execution_count": 29,
   "metadata": {},
   "outputs": [],
   "source": [
    "pipe = Pipeline([('knn_imputer',KNNImputer(missing_values = np.nan,n_neighbors = 5)),\n",
    "                          ('attribs_Adder',CombinedAttributesAdder()),\n",
    "                          ('std_scaler',StandardScaler()),])\n",
    "\n",
    "manga_data_prepared_tr = pipe.fit_transform(train_set_data)"
   ]
  },
  {
   "cell_type": "markdown",
   "metadata": {},
   "source": [
    "#### Impute Score Data\n",
    "There is no need to use std_scaler as the data has a range of 1 to 10"
   ]
  },
  {
   "cell_type": "code",
   "execution_count": 30,
   "metadata": {},
   "outputs": [],
   "source": [
    "train_set_labels = train_set_labels.values\n",
    "train_set_labels= train_set_labels.reshape(-1, 1) #make 2d array\n",
    "\n",
    "\n",
    "score_imputer = KNNImputer(missing_values = np.nan,n_neighbors=5,) #KNN IMPUTE\n",
    "\n",
    "manga_labels_prepared_tr = score_imputer.fit_transform(train_set_labels)\n"
   ]
  },
  {
   "cell_type": "markdown",
   "metadata": {},
   "source": [
    "#### Show the prepared data in a data frame"
   ]
  },
  {
   "cell_type": "code",
   "execution_count": 31,
   "metadata": {},
   "outputs": [],
   "source": [
    "col = ['Volumes','Chapters','Popularity','Members','Favorites','Chapter Per Volume']\n",
    "\n",
    "train_set_data_prepared = manga_data_prepared_tr #train set prepared\n",
    "train_set_data_df = pd.DataFrame(manga_data_prepared_tr,columns = col) #dataframe\n",
    "\n",
    "train_set_labels = manga_labels_prepared_tr #train set labels prepared\n",
    "train_set_labels_df = pd.DataFrame(manga_labels_prepared_tr, columns=['Score']) #data frame of lables\n"
   ]
  },
  {
   "cell_type": "markdown",
   "metadata": {},
   "source": [
    "#### Select and Train a model"
   ]
  },
  {
   "cell_type": "code",
   "execution_count": 32,
   "metadata": {},
   "outputs": [
    {
     "data": {
      "text/plain": [
       "LinearRegression()"
      ]
     },
     "execution_count": 32,
     "metadata": {},
     "output_type": "execute_result"
    }
   ],
   "source": [
    "from sklearn.linear_model import LinearRegression\n",
    "\n",
    "lin_reg = LinearRegression()\n",
    "lin_reg.fit(train_set_data_prepared, train_set_labels)"
   ]
  },
  {
   "cell_type": "markdown",
   "metadata": {},
   "source": [
    "#### Lets test the model on the first five training data instances"
   ]
  },
  {
   "cell_type": "code",
   "execution_count": 33,
   "metadata": {},
   "outputs": [],
   "source": [
    "training_test = train_set_data_prepared[:5]"
   ]
  },
  {
   "cell_type": "code",
   "execution_count": 34,
   "metadata": {},
   "outputs": [],
   "source": [
    "training_test_labels = train_set_labels[:5]"
   ]
  },
  {
   "cell_type": "code",
   "execution_count": 35,
   "metadata": {},
   "outputs": [
    {
     "name": "stdout",
     "output_type": "stream",
     "text": [
      "Predictions: [[7.25470379]\n",
      " [7.8786575 ]\n",
      " [7.12931454]\n",
      " [7.40652029]\n",
      " [7.44079646]]\n",
      "Labels : [[7.6       ]\n",
      " [7.38231301]\n",
      " [6.88      ]\n",
      " [8.13      ]\n",
      " [6.72      ]]\n"
     ]
    }
   ],
   "source": [
    "print(f'Predictions: {lin_reg.predict(training_test)}' )\n",
    "print(f'Labels : {training_test_labels}')"
   ]
  },
  {
   "cell_type": "markdown",
   "metadata": {},
   "source": [
    "#### Measure RMSE:"
   ]
  },
  {
   "cell_type": "code",
   "execution_count": 36,
   "metadata": {},
   "outputs": [
    {
     "data": {
      "text/plain": [
       "0.755275693572306"
      ]
     },
     "execution_count": 36,
     "metadata": {},
     "output_type": "execute_result"
    }
   ],
   "source": [
    "from sklearn.metrics import mean_squared_error\n",
    "manga_score_predictions = lin_reg.predict(train_set_data_prepared)\n",
    "\n",
    "lin_mse = mean_squared_error(manga_score_predictions,train_set_labels)\n",
    "lin_rmse = np.sqrt(lin_mse)\n",
    "lin_rmse"
   ]
  },
  {
   "cell_type": "markdown",
   "metadata": {},
   "source": [
    "The model is quite accurate using linear regression , this could be due to overfitting which will be checked"
   ]
  },
  {
   "cell_type": "markdown",
   "metadata": {},
   "source": [
    "#### Evaluating the Linear Regression using Cross_Validation"
   ]
  },
  {
   "cell_type": "code",
   "execution_count": 37,
   "metadata": {},
   "outputs": [],
   "source": [
    "def display_score(scores):\n",
    "    print('Scores:' ,score)\n",
    "    print('Mean:' ,scores.mean())\n",
    "    print('Standard Dev:',scores.std())"
   ]
  },
  {
   "cell_type": "code",
   "execution_count": 38,
   "metadata": {},
   "outputs": [],
   "source": [
    "from sklearn.model_selection import cross_val_score"
   ]
  },
  {
   "cell_type": "code",
   "execution_count": 39,
   "metadata": {},
   "outputs": [
    {
     "name": "stdout",
     "output_type": "stream",
     "text": [
      "Scores: [-0.54237028 -0.5482061  -0.63640556 -0.6317552  -0.59552897 -0.57188602\n",
      " -0.52777666 -0.6550782  -0.53718366 -0.51769031]\n",
      "Mean: 0.7585671177725538\n",
      "Standard Dev: 0.031048733605146126\n"
     ]
    }
   ],
   "source": [
    "score = cross_val_score(lin_reg,train_set_data_prepared,train_set_labels,scoring ='neg_mean_squared_error',cv =10)\n",
    "lin_reg_rmse_score = np.sqrt(-score)\n",
    "display_score(lin_reg_rmse_score)"
   ]
  },
  {
   "cell_type": "markdown",
   "metadata": {},
   "source": [
    "#### Trying a Decision Tree model"
   ]
  },
  {
   "cell_type": "code",
   "execution_count": 40,
   "metadata": {},
   "outputs": [
    {
     "data": {
      "text/plain": [
       "DecisionTreeRegressor()"
      ]
     },
     "execution_count": 40,
     "metadata": {},
     "output_type": "execute_result"
    }
   ],
   "source": [
    "from sklearn.tree import DecisionTreeRegressor\n",
    "\n",
    "tree_reg = DecisionTreeRegressor()\n",
    "tree_reg.fit(train_set_data_prepared,train_set_labels)"
   ]
  },
  {
   "cell_type": "markdown",
   "metadata": {},
   "source": [
    "#### Measuring RMSE"
   ]
  },
  {
   "cell_type": "code",
   "execution_count": 41,
   "metadata": {},
   "outputs": [
    {
     "data": {
      "text/plain": [
       "3.2274635256934564e-16"
      ]
     },
     "execution_count": 41,
     "metadata": {},
     "output_type": "execute_result"
    }
   ],
   "source": [
    "tree_score_predictions = tree_reg.predict(train_set_data_prepared)\n",
    "tree_MSE = mean_squared_error(train_set_labels,tree_score_predictions)\n",
    "tree_RMSE = np.sqrt(tree_MSE)\n",
    "tree_RMSE"
   ]
  },
  {
   "cell_type": "markdown",
   "metadata": {},
   "source": [
    "The error is very small so the model has overfit the data"
   ]
  },
  {
   "cell_type": "markdown",
   "metadata": {},
   "source": [
    "#### Evaluating the decision tree using Cross_Validation"
   ]
  },
  {
   "cell_type": "code",
   "execution_count": 42,
   "metadata": {},
   "outputs": [],
   "source": [
    "score = cross_val_score(tree_reg,train_set_data_prepared,train_set_labels,scoring = 'neg_mean_squared_error',cv = 10)\n",
    "tree_rmse_scores = np.sqrt(-score)"
   ]
  },
  {
   "cell_type": "code",
   "execution_count": 43,
   "metadata": {},
   "outputs": [
    {
     "name": "stdout",
     "output_type": "stream",
     "text": [
      "Scores: [-1.0771255  -0.99960663 -1.18030322 -0.9770619  -0.94854559 -1.03510384\n",
      " -0.82903609 -1.14842056 -0.85828127 -0.92521288]\n",
      "Mean: 0.9974338085771283\n",
      "Standard Dev: 0.05473155815881296\n"
     ]
    }
   ],
   "source": [
    "display_score(tree_rmse_scores)"
   ]
  },
  {
   "cell_type": "markdown",
   "metadata": {},
   "source": [
    "The RMSE is lower on the linear regression model , both models are very accurate . Overfitting must be investigated"
   ]
  },
  {
   "cell_type": "markdown",
   "metadata": {},
   "source": [
    "### Evaluating Linear Regression model on the test set"
   ]
  },
  {
   "cell_type": "markdown",
   "metadata": {},
   "source": [
    "#### Run Test Data through the Pipeline"
   ]
  },
  {
   "cell_type": "code",
   "execution_count": 44,
   "metadata": {},
   "outputs": [],
   "source": [
    "#### Run Pipeline ####\n",
    "test_set_labels = test_set_labels.values\n",
    "test_set_labels=test_set_labels.reshape(-1, 1) #make 2d array\n",
    "\n",
    "manga_labels_prepared_test = score_imputer.fit_transform(test_set_labels)\n",
    "manga_data_prepared_test = pipe.fit_transform(test_set_data)\n",
    "\n",
    "#### Predict using Lin Reg model ####\n",
    "label_predictions_test = lin_reg.predict(manga_data_prepared_test)\n"
   ]
  },
  {
   "cell_type": "markdown",
   "metadata": {},
   "source": [
    "#### Measuring the RMSE"
   ]
  },
  {
   "cell_type": "code",
   "execution_count": 46,
   "metadata": {},
   "outputs": [],
   "source": [
    "final_mse = mean_squared_error(label_predictions_test,manga_labels_prepared_test)\n",
    "final_RMSE = np.sqrt(final_mse)"
   ]
  },
  {
   "cell_type": "markdown",
   "metadata": {},
   "source": [
    "#### The Final RMSE was calculated to be:"
   ]
  },
  {
   "cell_type": "code",
   "execution_count": 47,
   "metadata": {},
   "outputs": [
    {
     "data": {
      "text/plain": [
       "0.7776908124349354"
      ]
     },
     "execution_count": 47,
     "metadata": {},
     "output_type": "execute_result"
    }
   ],
   "source": [
    "final_RMSE"
   ]
  }
 ],
 "metadata": {
  "kernelspec": {
   "display_name": "Python 3",
   "language": "python",
   "name": "python3"
  },
  "language_info": {
   "codemirror_mode": {
    "name": "ipython",
    "version": 3
   },
   "file_extension": ".py",
   "mimetype": "text/x-python",
   "name": "python",
   "nbconvert_exporter": "python",
   "pygments_lexer": "ipython3",
   "version": "3.8.3"
  }
 },
 "nbformat": 4,
 "nbformat_minor": 4
}
